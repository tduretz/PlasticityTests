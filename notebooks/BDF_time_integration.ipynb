{
 "cells": [
  {
   "cell_type": "code",
   "execution_count": 1,
   "metadata": {},
   "outputs": [],
   "source": [
    "from sympy import *"
   ]
  },
  {
   "cell_type": "markdown",
   "metadata": {},
   "source": [
    "Pressure integration using BDF 1/2 "
   ]
  },
  {
   "cell_type": "code",
   "execution_count": 8,
   "metadata": {},
   "outputs": [
    {
     "data": {
      "text/latex": [
       "$\\displaystyle \\frac{- Kb div + Kb ∇v_{pl[end]} - Pt_{0} b - Pt_{00} c}{a}$"
      ],
      "text/plain": [
       "(-Kb*div + Kb*∇v_pl[end] - Pt0*b - Pt00*c)/a"
      ]
     },
     "execution_count": 8,
     "metadata": {},
     "output_type": "execute_result"
    }
   ],
   "source": [
    "a, b, c = symbols('a, b, c') # BDF coefficients\n",
    "SyyBC, Tyy0, Pt, Pt0, Pt00, G, K, dt, Eyyd, div, eta_ve, eta_e = symbols('σyyi, τyy0, Pt, Pt0, Pt00, G, Kb, Δt, ε̇yyd[end], div[end], ηve[end], ηe[end]') \n",
    "Exx_pl, Eyy_pl, Ezz_pl, div_pl = symbols('ε̇xx_pl[end], ε̇yy_pl[end], ε̇zz_pl[end], ∇v_pl[end]')\n",
    "VyN, VyS, dy  = symbols('VyN, Vy[end-1], Δy ')\n",
    "div  = symbols('div')\n",
    "Eyyd = (VyN-VyS)/dy - 1/3*((VyN-VyS)/dy)\n",
    "Tyy  = 2*eta_ve*(Eyyd + Tyy0/2/eta_e - Eyy_pl)\n",
    "rhs  = - K*(div - div_pl)\n",
    "fp   = a*Pt + b*Pt0 + c*Pt00 - rhs\n",
    "solve(fp, Pt)[0]\n"
   ]
  },
  {
   "cell_type": "markdown",
   "metadata": {},
   "source": [
    "Stress integration using BDF 1/2"
   ]
  },
  {
   "cell_type": "code",
   "execution_count": null,
   "metadata": {},
   "outputs": [],
   "source": [
    "a, b, c = symbols('a, b, c') # BDF coefficients\n",
    "SyyBC, Tyy0, Pt, Pt0, Pt00, G, K, dt, Eyyd, div, eta_ve, eta_e = symbols('σyyi, τyy0, Pt, Pt0, Pt00, G, Kb, Δt, ε̇yyd[end], div[end], ηve[end], ηe[end]') \n",
    "Exx_pl, Eyy_pl, Ezz_pl, div_pl = symbols('ε̇xx_pl[end], ε̇yy_pl[end], ε̇zz_pl[end], ∇v_pl[end]')\n",
    "VyN, VyS, dy  = symbols('VyN, Vy[end-1], Δy ')\n",
    "div  = symbols('div')\n",
    "Eyyd = (VyN-VyS)/dy - 1/3*((VyN-VyS)/dy)\n",
    "Tyy  = 2*eta_ve*(Eyyd - ( (b*Tyy0 + c*Tyy00)/2/G - Eyy_pl) )\n"
   ]
  }
 ],
 "metadata": {
  "kernelspec": {
   "display_name": "Python 3",
   "language": "python",
   "name": "python3"
  },
  "language_info": {
   "codemirror_mode": {
    "name": "ipython",
    "version": 3
   },
   "file_extension": ".py",
   "mimetype": "text/x-python",
   "name": "python",
   "nbconvert_exporter": "python",
   "pygments_lexer": "ipython3",
   "version": "3.9.6"
  }
 },
 "nbformat": 4,
 "nbformat_minor": 2
}
