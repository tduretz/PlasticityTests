{
 "cells": [
  {
   "cell_type": "code",
   "execution_count": 12,
   "metadata": {},
   "outputs": [],
   "source": [
    "from sympy import *"
   ]
  },
  {
   "cell_type": "code",
   "execution_count": 13,
   "metadata": {},
   "outputs": [
    {
     "data": {
      "text/latex": [
       "$\\displaystyle 1.33333333333333$"
      ],
      "text/plain": [
       "1.33333333333333"
      ]
     },
     "execution_count": 13,
     "metadata": {},
     "output_type": "execute_result"
    }
   ],
   "source": [
    "G, P0, dy, dtauPt, etae = symbols('G, P0, dy, dtauPt, etae')\n",
    "Ke    = 3/2*etae\n",
    "dtauV = dy**2/etae/(2)\n",
    "f     = (Ke*dtauV/dy**2)*dtauPt - 1\n",
    "Fv    = 1/dy*dtauPt\n",
    "dV    = dtauV*Fv \n",
    "divV  = 1/dy*dV\n",
    "dP    = Ke*divV\n",
    "f     = dP - 1\n",
    "solve(f, dtauPt)[0]\n",
    "\n"
   ]
  }
 ],
 "metadata": {
  "kernelspec": {
   "display_name": "Python 3",
   "language": "python",
   "name": "python3"
  },
  "language_info": {
   "codemirror_mode": {
    "name": "ipython",
    "version": 3
   },
   "file_extension": ".py",
   "mimetype": "text/x-python",
   "name": "python",
   "nbconvert_exporter": "python",
   "pygments_lexer": "ipython3",
   "version": "3.9.6"
  }
 },
 "nbformat": 4,
 "nbformat_minor": 2
}
