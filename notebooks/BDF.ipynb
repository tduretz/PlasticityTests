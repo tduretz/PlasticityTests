{
 "cells": [
  {
   "cell_type": "code",
   "execution_count": 28,
   "metadata": {},
   "outputs": [],
   "source": [
    "from sympy import *"
   ]
  },
  {
   "cell_type": "code",
   "execution_count": 29,
   "metadata": {},
   "outputs": [
    {
     "name": "stdout",
     "output_type": "stream",
     "text": [
      "a = 1 ./ (dt + dt0) + 1 ./ dt\n",
      "b = dt .* (-1 ./ dt0 - 1 ./ dt) ./ (dt + dt0) - 1 ./ dt\n",
      "c = dt ./ (dt0 .* (dt + dt0))\n"
     ]
    }
   ],
   "source": [
    "y, y0, y00 = symbols('y, y0, y00')\n",
    "t, tn, tn0 = symbols('t, tn, tn0')\n",
    "dt, dt0 = symbols('dt, dt0')\n",
    "dydt   = (y-y0)/dt\n",
    "dydt0  =(y0-y00)/dt0\n",
    "f      = y + (t-tn)* dydt\n",
    "f     += (t-tn)*(t-tn0) * ( dydt - dydt0 ) / (dt+dt0)\n",
    "bdf2 = f.diff(t).subs(t,tn).subs(tn-tn0,dt)\n",
    "print('a = ' + julia_code(bdf2.diff(y)))\n",
    "print('b = ' + julia_code(bdf2.diff(y0)))\n",
    "print('c = ' + julia_code(bdf2.diff(y00)))"
   ]
  },
  {
   "cell_type": "code",
   "execution_count": 30,
   "metadata": {},
   "outputs": [
    {
     "name": "stdout",
     "output_type": "stream",
     "text": [
      "a = 1 ./ (dt + dt0 + dt00) + 1 ./ (dt + dt0) + 1 ./ dt\n",
      "b = dt .* (dt + dt0) .* ((-1 ./ dt0 - 1 ./ dt) ./ (dt + dt0) - 1 ./ (dt0 .* (dt0 + dt00))) ./ (dt + dt0 + dt00) + dt .* (-1 ./ dt0 - 1 ./ dt) ./ (dt + dt0) - 1 ./ dt\n",
      "c = dt .* (dt + dt0) .* (-(-1 ./ dt00 - 1 ./ dt0) ./ (dt0 + dt00) + 1 ./ (dt0 .* (dt + dt0))) ./ (dt + dt0 + dt00) + dt ./ (dt0 .* (dt + dt0))\n",
      "d = -dt .* (dt + dt0) ./ (dt00 .* (dt0 + dt00) .* (dt + dt0 + dt00))\n"
     ]
    }
   ],
   "source": [
    "y, y0, y00, y000 = symbols('y, y0, y00, y000')\n",
    "t, tn, tn0, tn00 = symbols('t, tn, tn0, tn00')\n",
    "dt, dt0, dt00 = symbols('dt, dt0, dt00')\n",
    "dydt   = (y-y0)/dt\n",
    "dydt0  = (y0-y00)/dt0\n",
    "dydt00 = (y00-y000)/dt00\n",
    "f      = y + (t-tn)* dydt\n",
    "f     += (t-tn)*(t-tn0) * ( dydt - dydt0 ) / (dt+dt0)\n",
    "f     += (t-tn)*(t-tn0)*(t-tn00) * ( (dydt - dydt0)/(dt+dt0) - (dydt0 - dydt00)/(dt0+dt00) )/(dt+dt0+dt00)\n",
    "bdf2 = f.diff(t).subs(t,tn).subs(tn-tn0,dt).subs(tn-tn00,dt+dt0)\n",
    "print('a = ' + julia_code(bdf2.diff(y)))\n",
    "print('b = ' + julia_code(bdf2.diff(y0)))\n",
    "print('c = ' + julia_code(bdf2.diff(y00)))\n",
    "print('d = ' + julia_code(bdf2.diff(y000)))"
   ]
  },
  {
   "cell_type": "code",
   "execution_count": 31,
   "metadata": {},
   "outputs": [
    {
     "name": "stdout",
     "output_type": "stream",
     "text": [
      "a = 1 ./ (dt + dt0 + dt00) + 1 ./ (dt + dt0) + 1 ./ dt\n",
      "b = dt .* (dt + dt0) .* ((-1 ./ dt0 - 1 ./ dt) ./ (dt + dt0) - 1 ./ (dt0 .* (dt0 + dt00))) ./ (dt + dt0 + dt00) + dt .* (-1 ./ dt0 - 1 ./ dt) ./ (dt + dt0) - 1 ./ dt\n",
      "c = dt .* (dt + dt0) .* (-(-1 ./ dt00 - 1 ./ dt0) ./ (dt0 + dt00) + 1 ./ (dt0 .* (dt + dt0))) ./ (dt + dt0 + dt00) + dt ./ (dt0 .* (dt + dt0))\n",
      "d = -dt .* (dt + dt0) ./ (dt00 .* (dt0 + dt00) .* (dt + dt0 + dt00))\n",
      "e = 0\n"
     ]
    }
   ],
   "source": [
    "y, y0, y00, y000, y0000 = symbols('y, y0, y00, y000, y0000')\n",
    "t, tn, tn0, tn00, tn000 = symbols('t, tn, tn0, tn00, tn000')\n",
    "dt, dt0, dt00, dt000 = symbols('dt, dt0, dt00, dt000')\n",
    "dydt    = (y-y0)/dt\n",
    "dydt0   = (y0-y00)/dt0\n",
    "dydt00  = (y00-y000)/dt00\n",
    "dydt000 = (y000-y0000)/dt000\n",
    "d2ydt2  = (dydt - dydt0)/(dt+dt0)  \n",
    "d2ydt20 = (dydt0 - dydt00)/(dt0+dt00)\n",
    "f       = y + (t-tn)* dydt\n",
    "f      += (t-tn)*(t-tn0) * ( dydt - dydt0 ) / (dt+dt0)\n",
    "f      += (t-tn)*(t-tn0) * (t-tn00) * ( d2ydt2 - d2ydt20 )/(dt+dt0+dt00)\n",
    "bdf2 = f.diff(t).subs(t,tn).subs(tn-tn0,dt).subs(tn-tn00,dt+dt0)\n",
    "print('a = ' + julia_code(bdf2.diff(y)))\n",
    "print('b = ' + julia_code(bdf2.diff(y0)))\n",
    "print('c = ' + julia_code(bdf2.diff(y00)))\n",
    "print('d = ' + julia_code(bdf2.diff(y000)))\n",
    "print('e = ' + julia_code(bdf2.diff(y0000)))"
   ]
  }
 ],
 "metadata": {
  "kernelspec": {
   "display_name": "Python 3",
   "language": "python",
   "name": "python3"
  },
  "language_info": {
   "codemirror_mode": {
    "name": "ipython",
    "version": 3
   },
   "file_extension": ".py",
   "mimetype": "text/x-python",
   "name": "python",
   "nbconvert_exporter": "python",
   "pygments_lexer": "ipython3",
   "version": "3.9.6"
  }
 },
 "nbformat": 4,
 "nbformat_minor": 2
}
