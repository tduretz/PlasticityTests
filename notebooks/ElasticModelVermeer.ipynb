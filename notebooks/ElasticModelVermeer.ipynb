{
 "cells": [
  {
   "cell_type": "code",
   "execution_count": 4,
   "metadata": {},
   "outputs": [],
   "source": [
    "from sympy import *"
   ]
  },
  {
   "cell_type": "markdown",
   "metadata": {},
   "source": [
    "The model of Vermeer for total stress / total strain rate reads:\n",
    "\n",
    "$$ \\sigma = \\mathbf{D}^\\mathrm{e} \\dot{\\varepsilon} $$ \n",
    "with \n",
    "$$ \\mathbf{D}^\\mathrm{e} = \\begin{bmatrix} 2G & 0 & 0\\\\ 0 & 2G & 0\\\\ 0 & 0 & 2G  \\end{bmatrix} $$\n",
    "\n",
    "It is not standard and it induces a non-trivial volumetric-deviatoric model"
   ]
  },
  {
   "cell_type": "code",
   "execution_count": 5,
   "metadata": {},
   "outputs": [
    {
     "data": {
      "text/latex": [
       "$\\displaystyle \\frac{4 Exxd G}{3} - \\frac{2 Eyyd G}{3} - \\frac{2 Ezzd G}{3}$"
      ],
      "text/plain": [
       "4*Exxd*G/3 - 2*Eyyd*G/3 - 2*Ezzd*G/3"
      ]
     },
     "execution_count": 5,
     "metadata": {},
     "output_type": "execute_result"
    }
   ],
   "source": [
    "Exxd, Eyyd, Ezzd, div, G = symbols('Exxd, Eyyd, Ezzd, div, G')\n",
    "Exx = Exxd + 1/3*div\n",
    "Eyy = Eyyd + 1/3*div\n",
    "Ezz = Ezzd + 1/3*div\n",
    "Sxx = 2*G*Exx\n",
    "Syy = 2*G*Eyy\n",
    "Szz = 2*G*Ezz\n",
    "P   = -Rational(1,3)*(Sxx + Syy + Szz)\n",
    "Txx = P + Sxx\n",
    "Txx.expand().simplify().expand()"
   ]
  },
  {
   "cell_type": "markdown",
   "metadata": {},
   "source": [
    "Plane deviatoric strain rate"
   ]
  },
  {
   "cell_type": "code",
   "execution_count": 6,
   "metadata": {},
   "outputs": [
    {
     "data": {
      "text/latex": [
       "$\\displaystyle \\frac{Exx}{2} + \\frac{Eyy}{2}$"
      ],
      "text/plain": [
       "Exx/2 + Eyy/2"
      ]
     },
     "execution_count": 6,
     "metadata": {},
     "output_type": "execute_result"
    }
   ],
   "source": [
    "Exx, Eyy, Ezz = symbols('Exx, Eyy, Ezz')\n",
    "f = Ezz - Rational(1,3)*(Exx + Eyy + Ezz)\n",
    "solve(f, Ezz)[0]"
   ]
  },
  {
   "cell_type": "code",
   "execution_count": 14,
   "metadata": {},
   "outputs": [
    {
     "data": {
      "text/latex": [
       "$\\displaystyle E_{2, 0}$"
      ],
      "text/plain": [
       "E[2, 0]"
      ]
     },
     "metadata": {},
     "output_type": "display_data"
    }
   ],
   "source": [
    "E = Matrix([[Exx], [Eyy], [Ezz]] )\n",
    "e = MatrixSymbol('E', 3, 1 )\n",
    "display(e[2])"
   ]
  },
  {
   "cell_type": "code",
   "execution_count": null,
   "metadata": {},
   "outputs": [],
   "source": []
  }
 ],
 "metadata": {
  "kernelspec": {
   "display_name": "Python 3",
   "language": "python",
   "name": "python3"
  },
  "language_info": {
   "codemirror_mode": {
    "name": "ipython",
    "version": 3
   },
   "file_extension": ".py",
   "mimetype": "text/x-python",
   "name": "python",
   "nbconvert_exporter": "python",
   "pygments_lexer": "ipython3",
   "version": "3.9.6"
  }
 },
 "nbformat": 4,
 "nbformat_minor": 2
}
