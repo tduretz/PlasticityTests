{
 "cells": [
  {
   "cell_type": "code",
   "execution_count": 20,
   "metadata": {},
   "outputs": [],
   "source": [
    "from sympy import *"
   ]
  },
  {
   "cell_type": "markdown",
   "metadata": {},
   "source": [
    "Stress boundary condition: Standard constitutive law - volumetric-deviatoric"
   ]
  },
  {
   "cell_type": "code",
   "execution_count": 28,
   "metadata": {},
   "outputs": [
    {
     "name": "stdout",
     "output_type": "stream",
     "text": [
      "Vy[end] = (3.0 * G .* Kb .* Vy[end-1] + 3.0 * G .* Kb .* Δy .* ∇v_pl[end] - 3.0 * G .* Pt000[end] .* d .* Δy - 3.0 * G .* Pt00[end] .* c .* Δy - 3.0 * G .* Pt0[end] .* b .* Δy + 4.0 * G .* Vy[end-1] .* a .* ηve[end] + 6.0 * G .* a .* Δy .* ε̇yy_pl[end] .* ηve[end] + 3.0 * G .* a .* Δy .* σyyi + 3.0 * a .* b .* Δy .* ηve[end] .* τyy0[end] + 3.0 * a .* c .* Δy .* ηve[end] .* τyy00[end] + 3.0 * a .* d .* Δy .* ηve[end] .* τyy000[end]) ./ (G .* (3.0 * Kb + 4.0 * a .* ηve[end]))\n"
     ]
    }
   ],
   "source": [
    "a, b, c, d, e = symbols('a, b, c, d, e') # BDF coefficients\n",
    "SyyBC, Tyy0, Tyy00, Tyy000, Tyy0000, Pt0, Pt00, Pt000, Pt0000, G, K, dt, Eyyd, div, eta_ve, eta_e = symbols('σyyi, τyy0[end], τyy00[end], τyy000[end], τyy0000[end], Pt0[end], Pt00[end], Pt000[end], Pt0000[end], G, Kb, Δt, ε̇yyd[end], div[end], ηve[end], ηe[end]') \n",
    "Exx_pl, Eyy_pl, Ezz_pl, div_pl = symbols('ε̇xx_pl[end], ε̇yy_pl[end], ε̇zz_pl[end], ∇v_pl[end]')\n",
    "VyN, VyS, dy  = symbols('VyN, Vy[end-1], Δy ')\n",
    "Exx  = 0\n",
    "Eyy  = ((VyN-VyS)/dy)\n",
    "Ezz  = (Exx + Eyy)/2\n",
    "div  = Exx + Eyy + Ezz\n",
    "Eyyd = (VyN-VyS)/dy - 1/3*div\n",
    "# Tyy  = 2*eta_ve*(Eyyd + Tyy0/2/G/dt - 0*Eyy_pl)\n",
    "# Pt   =  -K*dt*(div - 0*div_pl) + Pt0\n",
    "Tyy  = 2*eta_ve*(     Eyyd - Eyy_pl  - (b*Tyy0 + c*Tyy00 + d*Tyy000)/2/G )\n",
    "Pt   =     K/a *( -  (div  - div_pl) - (b* Pt0 + c* Pt00 + d* Pt000)/K   )\n",
    "# Tyy  = 2*eta_ve*(     Eyyd - Eyy_pl  - (b*Tyy0 + c*Tyy00 + d*Tyy000 + e*Tyy0000)/2/G )\n",
    "# Pt   =     K/a *( -  (div  - div_pl) - (b* Pt0 + c* Pt00 + d* Pt000 + e* Pt0000)/K   )\n",
    "Syy  = Tyy - Pt\n",
    "f    = Syy - SyyBC\n",
    "print(\"Vy[end] = \" + julia_code(solve(f, VyN)[0]) )"
   ]
  },
  {
   "cell_type": "markdown",
   "metadata": {},
   "source": [
    "Stress boundary condition: Standard constitutive law - total stress"
   ]
  },
  {
   "cell_type": "code",
   "execution_count": 22,
   "metadata": {},
   "outputs": [
    {
     "name": "stdout",
     "output_type": "stream",
     "text": [
      "Vy[end] = (2 * G .* Vy[end-1] + 3 * Kb .* Vy[end-1] + 2 * Δy .* σyyi) ./ (2 * G + 3 * Kb)\n"
     ]
    }
   ],
   "source": [
    "SyyBC, Tyy0, Pt0, G, K, dt, Eyyd, div, eta_ve, eta_e = symbols('σyyi, τyy0[end], Pt0[end], G, Kb, Δt, ε̇yy[end], div[end], ηve[end], ηe[end]') \n",
    "Exx_pl, Eyy_pl, Ezz_pl, div_pl = symbols('ε̇xx_pl[end], ε̇yy_pl[end], ε̇zz_pl[end], ∇v_pl[end]')\n",
    "VyN, VyS, dy  = symbols('VyN, Vy[end-1], Δy ')\n",
    "Exx  = 0\n",
    "Eyy  = (VyN-VyS)/dy \n",
    "Ezz  = Rational(1,2)*(Exx + Eyy)\n",
    "Syy  = (K+Rational(4,3)*G)*Eyy + (K-Rational(2,3)*G)*Exx + (K-Rational(2,3)*G)*Ezz\n",
    "f    = Syy - SyyBC\n",
    "print(\"Vy[end] = \" + julia_code(solve(f, VyN)[0]) )"
   ]
  },
  {
   "cell_type": "code",
   "execution_count": 23,
   "metadata": {},
   "outputs": [
    {
     "name": "stdout",
     "output_type": "stream",
     "text": [
      "Vx[end] = Vx[end-1] + 2 * Δy .* ε̇xy_pl[end] + Δy .* σxyi ./ ηve[end] - Δy .* τxy0[end] ./ ηe[end]\n"
     ]
    }
   ],
   "source": [
    "SxyBC, Txy0, G, K, dt, Exyd, div, eta_ve, eta_e = symbols('σxyi, τxy0[end], G, Kb, Δt, ε̇xy[end], div[end], ηve[end], ηe[end]') \n",
    "Exx_pl, Eyy_pl, Ezz_pl, Exy_pl, div_pl = symbols('ε̇xx_pl[end], ε̇yy_pl[end], ε̇zz_pl[end], ε̇xy_pl[end], ∇v_pl[end]')\n",
    "VxN, VxS, dy  = symbols('VxN, Vx[end-1], Δy ')\n",
    "Exyd = Rational(1,2)* ((VxN-VxS)/dy)\n",
    "Txy  = 2*eta_ve*(Exyd + Txy0/2/eta_e - Exy_pl)\n",
    "f    = Txy - SxyBC\n",
    "print(\"Vx[end] = \" + julia_code(solve(f, VxN)[0]) )"
   ]
  },
  {
   "cell_type": "code",
   "execution_count": 24,
   "metadata": {},
   "outputs": [
    {
     "name": "stdout",
     "output_type": "stream",
     "text": [
      "ε̇yy = (4.0 * G .* Δt .* ε̇yyd_pl - Kb .* Δt .* ε̇xx + 2.0 * Kb .* Δt .* ∇v_pl + 2.0 * P0 + 2.0 * σi.yy - 2.0 * τyy0) ./ (Δt .* (4.0 * G + 3.0 * Kb))\n"
     ]
    }
   ],
   "source": [
    "Eyy, Exx, Ezz, Pt0, Tyy0 = symbols('Eyy, ε̇xx, ε̇zz, P0, τyy0')\n",
    "eta_b, eta_s, eta_n = symbols('ηb, ηs, ηn')\n",
    "Exxd_pl, Eyyd_pl, Ezzd_pl, div_pl = symbols('ε̇xxd_pl, ε̇yyd_pl, ε̇zzd_pl, ∇v_pl')\n",
    "K, SyyBC = symbols('Kb, σi.yy ')\n",
    "Ezz = 1/2*(Exx + Eyy)\n",
    "div  = 0*Exx + Eyy + Ezz\n",
    "Exxd = Exx - 1/3*div\n",
    "Eyyd = Eyy - 1/3*div\n",
    "Ezzd = Ezz - 1/3*div\n",
    "Pt  = symbols('Pt')\n",
    "Tyy  = 2*G*dt*(Eyy + Tyy0/(2*G*dt) - Eyyd_pl)\n",
    "Ptc  = Pt0 - K*dt*(div - div_pl)\n",
    "Syy  = Tyy - Ptc\n",
    "f    = Syy - SyyBC\n",
    "# print(\"ε̇yyd[end] = \" + julia_code(solve(f, Eyyd)[0]))\n",
    "print(\"ε̇yy = \" + julia_code(solve(f, Eyy)[0]))"
   ]
  }
 ],
 "metadata": {
  "kernelspec": {
   "display_name": "Python 3",
   "language": "python",
   "name": "python3"
  },
  "language_info": {
   "codemirror_mode": {
    "name": "ipython",
    "version": 3
   },
   "file_extension": ".py",
   "mimetype": "text/x-python",
   "name": "python",
   "nbconvert_exporter": "python",
   "pygments_lexer": "ipython3",
   "version": "3.9.6"
  }
 },
 "nbformat": 4,
 "nbformat_minor": 2
}
