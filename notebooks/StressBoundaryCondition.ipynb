{
 "cells": [
  {
   "cell_type": "code",
   "execution_count": 7,
   "metadata": {},
   "outputs": [],
   "source": [
    "from sympy import *"
   ]
  },
  {
   "cell_type": "markdown",
   "metadata": {},
   "source": [
    "Stress boundary condition: Standard constitutive law"
   ]
  },
  {
   "cell_type": "code",
   "execution_count": 22,
   "metadata": {},
   "outputs": [
    {
     "name": "stdout",
     "output_type": "stream",
     "text": [
      "Vy[end] = (3.0 * Kb .* Vy[end-1] .* Δt .* ηe[end] + 3.0 * Kb .* Δt .* Δy .* ηe[end] .* ∇v_pl[end] + 3.0 * Pt0[end] .* Δy .* ηe[end] + 4.0 * Vy[end-1] .* ηe[end] .* ηve[end] + 6.0 * Δy .* ε̇yy_pl[end] .* ηe[end] .* ηve[end] + 3.0 * Δy .* ηe[end] .* σyyi - 3.0 * Δy .* ηve[end] .* τyy0[end]) ./ (ηe[end] .* (3.0 * Kb .* Δt + 4.0 * ηve[end]))\n"
     ]
    }
   ],
   "source": [
    "SyyBC, Tyy0, Pt0, G, K, dt, Eyyd, div, eta_ve, eta_e = symbols('σyyi, τyy0[end], Pt0[end], G, Kb, Δt, ε̇yy[end], div[end], ηve[end], ηe[end]') \n",
    "Exx_pl, Eyy_pl, Ezz_pl, div_pl = symbols('ε̇xx_pl[end], ε̇yy_pl[end], ε̇zz_pl[end], ∇v_pl[end]')\n",
    "VyN, VyS, dy  = symbols('VyN, Vy[end-1], Δy ')\n",
    "div  = ((VyN-VyS)/dy)\n",
    "Eyyd = (VyN-VyS)/dy - 1/3*((VyN-VyS)/dy)\n",
    "Tyy  = 2*eta_ve*(Eyyd + Tyy0/2/eta_e - Eyy_pl)\n",
    "Pt   = Pt0 - K*dt*(div - div_pl)\n",
    "Syy  = Tyy - Pt\n",
    "f    = Syy - SyyBC\n",
    "print(\"Vy[end] = \" + julia_code(solve(f, VyN)[0]) )"
   ]
  },
  {
   "cell_type": "code",
   "execution_count": 14,
   "metadata": {},
   "outputs": [
    {
     "name": "stdout",
     "output_type": "stream",
     "text": [
      "ε̇yy = (4.0 * G .* Δt .* ε̇yyd_pl - Kb .* Δt .* ε̇xx + 2.0 * Kb .* Δt .* ∇v_pl + 2.0 * P0 + 2.0 * σi.yy - 2.0 * τyy0) ./ (Δt .* (4.0 * G + 3.0 * Kb))\n"
     ]
    }
   ],
   "source": [
    "Eyy, Exx, Ezz, Pt0, Tyy0 = symbols('Eyy, ε̇xx, ε̇zz, P0, τyy0')\n",
    "eta_b, eta_s, eta_n = symbols('ηb, ηs, ηn')\n",
    "Exxd_pl, Eyyd_pl, Ezzd_pl, div_pl = symbols('ε̇xxd_pl, ε̇yyd_pl, ε̇zzd_pl, ∇v_pl')\n",
    "K, SyyBC = symbols('Kb, σi.yy ')\n",
    "Ezz = 1/2*(Exx + Eyy)\n",
    "div  = 0*Exx + Eyy + Ezz\n",
    "Exxd = Exx - 1/3*div\n",
    "Eyyd = Eyy - 1/3*div\n",
    "Ezzd = Ezz - 1/3*div\n",
    "Pt  = symbols('Pt')\n",
    "Tyy  = 2*G*dt*(Eyy + Tyy0/(2*G*dt) - Eyyd_pl)\n",
    "Ptc  = Pt0 - K*dt*(div - div_pl)\n",
    "Syy  = Tyy - Ptc\n",
    "f    = Syy - SyyBC\n",
    "# print(\"ε̇yyd[end] = \" + julia_code(solve(f, Eyyd)[0]))\n",
    "print(\"ε̇yy = \" + julia_code(solve(f, Eyy)[0]))"
   ]
  }
 ],
 "metadata": {
  "kernelspec": {
   "display_name": "Python 3",
   "language": "python",
   "name": "python3"
  },
  "language_info": {
   "codemirror_mode": {
    "name": "ipython",
    "version": 3
   },
   "file_extension": ".py",
   "mimetype": "text/x-python",
   "name": "python",
   "nbconvert_exporter": "python",
   "pygments_lexer": "ipython3",
   "version": "3.9.6"
  }
 },
 "nbformat": 4,
 "nbformat_minor": 2
}
