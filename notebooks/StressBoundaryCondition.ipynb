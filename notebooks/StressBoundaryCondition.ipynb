{
 "cells": [
  {
   "cell_type": "code",
   "execution_count": 2,
   "metadata": {},
   "outputs": [],
   "source": [
    "from sympy import *"
   ]
  },
  {
   "cell_type": "markdown",
   "metadata": {},
   "source": [
    "Stress boundary condition: Standard constitutive law"
   ]
  },
  {
   "cell_type": "code",
   "execution_count": 3,
   "metadata": {},
   "outputs": [
    {
     "data": {
      "text/plain": [
       "'0.25 * (4.0 * VyS .* ηe .* ηve + 3.0 * Δy .* ηe .* (-K .* div .* dt + Pt0 + SyyBC) - 3.0 * Δy .* ηve .* τyy0) ./ (ηe .* ηve)'"
      ]
     },
     "execution_count": 3,
     "metadata": {},
     "output_type": "execute_result"
    }
   ],
   "source": [
    "SyyBC, Tyy0, Pt0, G, K, dt, Eyyd, div, eta_ve, eta_e = symbols('SyyBC, τyy0, Pt0, G, K, dt, Eyyd, div, ηve, ηe') \n",
    "VyN, VyS, dy  = symbols('VyN, VyS, Δy ')\n",
    "Eyyd = (VyN-VyS)/dy - 1/3*((VyN-VyS)/dy)\n",
    "Tyy  = 2*eta_ve*(Eyyd + Tyy0/2/eta_e)\n",
    "Pt   = Pt0 - K*dt*div\n",
    "Syy  = Tyy - Pt\n",
    "f    = Syy - SyyBC\n",
    "julia_code(solve(f, VyN)[0])"
   ]
  },
  {
   "cell_type": "markdown",
   "metadata": {},
   "source": [
    "Stress boundary condition for the 1D code: generic constitutive law"
   ]
  },
  {
   "cell_type": "code",
   "execution_count": 16,
   "metadata": {},
   "outputs": [
    {
     "name": "stdout",
     "output_type": "stream",
     "text": [
      "Vy[end] = (2.0 * Pt0[end] .* Δy + 5.0 * Vy[end-1] .* ηn + 2.0 * Vy[end-1] .* ηs + 2.0 * Δy .* σyyi - 2.0 * Δy .* τyy0[end]) ./ (5.0 * ηn + 2.0 * ηs)\n",
      "Vy[end] = (Pt0[end] .* Δy .* ηe[end] + Vy[end-1] .* ηe[end] .^ 2 + Vy[end-1] .* ηe[end] .* ηve[end] - 0.666666666666667 * Δy .* ε̇xx_pl[end] .* ηe[end] .* ηve[end] + 1.33333333333333 * Δy .* ε̇yy_pl[end] .* ηe[end] .* ηve[end] - 0.666666666666667 * Δy .* ε̇zz_pl[end] .* ηe[end] .* ηve[end] + 0.666666666666667 * Δy .* ηe[end] .^ 2 .* ∇v_pl[end] + Δy .* ηe[end] .* σyyi - Δy .* ηve[end] .* τyy0[end]) ./ (ηe[end] .* (ηe[end] + ηve[end]))\n"
     ]
    }
   ],
   "source": [
    "SyyBC, Tyy0, Pt0, G, K, dt, Eyyd, div, eta_ve, eta_e = symbols('σyyi, τyy0[end], Pt0[end], G, K, Δt, ε̇yy[end], div, ηve[end], ηe[end]') \n",
    "VyN, VyS, dy  = symbols('VyN, Vy[end-1], Δy ')\n",
    "eta_b, eta_s, eta_n = symbols('ηb, ηs, ηn')\n",
    "\n",
    "# Trial part\n",
    "Exx_pl, Eyy_pl, Ezz_pl, div_pl = symbols('ε̇xx_pl[end], ε̇yy_pl[end], ε̇zz_pl[end], ∇v_pl[end]')\n",
    "Exx  = 0.\n",
    "Eyy  = (VyN-VyS)/dy \n",
    "Ezz  = Rational(1,2)*(Exx + Eyy)\n",
    "div  = Exx + Eyy + Ezz\n",
    "Exxd = 0.0          - 1/3*div\n",
    "Eyyd = (VyN-VyS)/dy - 1/3*div\n",
    "Ezzd = Ezz          - 1/3*div\n",
    "Tyy  = 2*eta_n*(Eyyd + Tyy0/(2*eta_n) - 0*Eyy_pl) - 2*eta_s*(Exxd - 0*Exx_pl) - 2*eta_s*(Ezzd - 0*Ezz_pl)\n",
    "Pt   = Pt0 - eta_n*(div - 0*div_pl)\n",
    "Syy  = Tyy - Pt\n",
    "f    = Syy - SyyBC\n",
    "print(\"Vy[end] = \" + julia_code(solve(f, VyN)[0]))\n",
    "\n",
    "# Corrector part\n",
    "Exx_pl, Eyy_pl, Ezz_pl, div_pl = symbols('ε̇xx_pl[end], ε̇yy_pl[end], ε̇zz_pl[end], ∇v_pl[end]')\n",
    "Exx  = 0.\n",
    "Eyy  = (VyN-VyS)/dy \n",
    "Ezz  = Rational(1,2)*(Exx + Eyy)\n",
    "div  = Exx + Eyy + Ezz\n",
    "Exxd = 0.0          - 1/3*div\n",
    "Eyyd = (VyN-VyS)/dy - 1/3*div\n",
    "Ezzd = Ezz          - 1/3*div\n",
    "Tyy  = 2*eta_n*(Eyyd + Tyy0/(2*eta_n) - Eyy_pl) - 2*eta_s*(Exxd - Exx_pl) - 2*eta_s*(Ezzd - Ezz_pl)\n",
    "Pt   = Pt0 - eta_n*(div - div_pl)\n",
    "Syy  = Tyy - Pt\n",
    "f    = Syy - SyyBC\n",
    "print(\"Vy[end] = \" + julia_code(solve(f, VyN)[0]))"
   ]
  },
  {
   "cell_type": "code",
   "execution_count": 5,
   "metadata": {},
   "outputs": [
    {
     "name": "stdout",
     "output_type": "stream",
     "text": [
      "ε̇yy[end] = (1.5 * Pt0[end] .* ηe[end] - ε̇xx_pl[end] .* ηe[end] .* ηve[end] - ε̇xxd[end] .* ηe[end] .^ 2 + ε̇xxd[end] .* ηe[end] .* ηve[end] + 2.0 * ε̇yy_pl[end] .* ηe[end] .* ηve[end] - ε̇zz_pl[end] .* ηe[end] .* ηve[end] - ε̇zzd[end] .* ηe[end] .^ 2 + ε̇zzd[end] .* ηe[end] .* ηve[end] + ηe[end] .^ 2 .* ∇v_pl[end] + 1.5 * ηe[end] .* σyyi - 1.5 * ηve[end] .* τyy0[end]) ./ (ηe[end] .* (ηe[end] + 2.0 * ηve[end]))\n"
     ]
    }
   ],
   "source": [
    "Eyy, Exx, Ezz  = symbols('Eyyd, ε̇xxd[end], ε̇zzd[end]')\n",
    "div = Exx + Eyy + Ezz\n",
    "Exxd = Exx          - 1/3*div\n",
    "Eyyd = Eyy - 1/3*div\n",
    "Ezzd = Ezz          - 1/3*div\n",
    "Pt  = symbols('Pt[end]')\n",
    "Tyy  = 4/3*eta_ve*(Eyyd + Tyy0/(4/3*eta_e) - Eyy_pl) - 2/3*eta_ve*(Exxd - Exx_pl) - 2/3*eta_ve*(Ezzd - Ezz_pl)\n",
    "Ptc  = Pt0 - 2/3*eta_e*(div - div_pl)\n",
    "Syy  = Tyy - Ptc\n",
    "f    = Syy - SyyBC\n",
    "# print(\"ε̇yyd[end] = \" + julia_code(solve(f, Eyyd)[0]))\n",
    "print(\"ε̇yy[end] = \" + julia_code(solve(f, Eyy)[0]))"
   ]
  },
  {
   "cell_type": "markdown",
   "metadata": {},
   "source": [
    "Stress boundary condition for the 0D code: generic constitutive law"
   ]
  },
  {
   "cell_type": "code",
   "execution_count": 15,
   "metadata": {},
   "outputs": [
    {
     "name": "stdout",
     "output_type": "stream",
     "text": [
      "ε̇yy = (2.0 * P0 - ε̇xx .* ηb + 6.0 * ε̇xx .* ηs - 4.0 * ε̇xx_pl .* ηs + 4.0 * ε̇yy_pl .* ηn - 4.0 * ε̇zz_pl .* ηs + 2.0 * ηb .* ∇v_pl + 2.0 * σyyi - 2.0 * τyy0) ./ (3.0 * ηb + 4.0 * ηn - 2.0 * ηs)\n"
     ]
    }
   ],
   "source": [
    "Eyy, Exx, Ezz, Pt0, Tyy0 = symbols('Eyy, ε̇xx, ε̇zz, P0, τyy0')\n",
    "eta_b, eta_s, eta_n = symbols('ηb, ηs, ηn')\n",
    "Exx_pl, Eyy_pl, Ezz_pl, div_pl = symbols('ε̇xx_pl, ε̇yy_pl, ε̇zz_pl, ∇v_pl')\n",
    "Ezz = 1/2*(Exx + Eyy)\n",
    "div  = 0*Exx + Eyy + Ezz\n",
    "Exxd = Exx - 1/3*div\n",
    "Eyyd = Eyy - 1/3*div\n",
    "Ezzd = Ezz - 1/3*div\n",
    "Pt  = symbols('Pt')\n",
    "Tyy  = 2*eta_n*(Eyy + Tyy0/(2*eta_n) - Eyy_pl) - 2*eta_s*(Exx - Exx_pl) - 2*eta_s*(Ezz - Ezz_pl)\n",
    "Ptc  = Pt0 - eta_b*(div - div_pl)\n",
    "Syy  = Tyy - Ptc\n",
    "f    = Syy - SyyBC\n",
    "# print(\"ε̇yyd[end] = \" + julia_code(solve(f, Eyyd)[0]))\n",
    "print(\"ε̇yy = \" + julia_code(solve(f, Eyy)[0]))"
   ]
  }
 ],
 "metadata": {
  "kernelspec": {
   "display_name": "Python 3",
   "language": "python",
   "name": "python3"
  },
  "language_info": {
   "codemirror_mode": {
    "name": "ipython",
    "version": 3
   },
   "file_extension": ".py",
   "mimetype": "text/x-python",
   "name": "python",
   "nbconvert_exporter": "python",
   "pygments_lexer": "ipython3",
   "version": "3.9.6"
  }
 },
 "nbformat": 4,
 "nbformat_minor": 2
}
