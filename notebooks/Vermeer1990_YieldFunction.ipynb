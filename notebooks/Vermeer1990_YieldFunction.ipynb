{
 "cells": [
  {
   "cell_type": "code",
   "execution_count": 145,
   "metadata": {},
   "outputs": [],
   "source": [
    "from sympy import *"
   ]
  },
  {
   "cell_type": "code",
   "execution_count": 146,
   "metadata": {},
   "outputs": [
    {
     "data": {
      "text/latex": [
       "$\\displaystyle \\left(0.5 Sxx + 0.5 Syy\\right) \\sin{\\left(ϕ \\right)} + \\sqrt{Sxy^{2} + 0.25 \\left(Sxx - Syy\\right)^{2}}$"
      ],
      "text/plain": [
       "(0.5*Sxx + 0.5*Syy)*sin(ϕ) + sqrt(Sxy**2 + 0.25*(Sxx - Syy)**2)"
      ]
     },
     "metadata": {},
     "output_type": "display_data"
    }
   ],
   "source": [
    "Sxx, Syy, Sxy = symbols('Sxx, Syy, Sxy')\n",
    "ϕ = symbols('ϕ') \n",
    "τ    = sqrt(0.25*(Sxx-Syy)**2 + Sxy**2)\n",
    "f    = τ + 0.5*(Sxx+Syy)*sin(ϕ) \n",
    "display(f)"
   ]
  },
  {
   "cell_type": "code",
   "execution_count": 147,
   "metadata": {},
   "outputs": [
    {
     "data": {
      "text/latex": [
       "$\\displaystyle \\frac{0.25 Sxx - 0.25 Syy}{\\sqrt{Sxy^{2} + 0.25 \\left(Sxx - Syy\\right)^{2}}} + 0.5 \\sin{\\left(ϕ \\right)}$"
      ],
      "text/plain": [
       "(0.25*Sxx - 0.25*Syy)/sqrt(Sxy**2 + 0.25*(Sxx - Syy)**2) + 0.5*sin(ϕ)"
      ]
     },
     "execution_count": 147,
     "metadata": {},
     "output_type": "execute_result"
    }
   ],
   "source": [
    "f.diff(Sxx)"
   ]
  },
  {
   "cell_type": "code",
   "execution_count": 148,
   "metadata": {},
   "outputs": [
    {
     "data": {
      "text/latex": [
       "$\\displaystyle \\sqrt{τxy^{2} + 0.25 \\left(τxx - τyy\\right)^{2}} + \\left(- 1.0 P + 0.5 τxx + 0.5 τyy\\right) \\sin{\\left(ϕ \\right)}$"
      ],
      "text/plain": [
       "sqrt(τxy**2 + 0.25*(τxx - τyy)**2) + (-1.0*P + 0.5*τxx + 0.5*τyy)*sin(ϕ)"
      ]
     },
     "metadata": {},
     "output_type": "display_data"
    }
   ],
   "source": [
    "P = symbols('P')\n",
    "Txx, Tyy, Txy = symbols('τxx, τyy, τxy')\n",
    "ϕ = symbols('ϕ') \n",
    "\n",
    "Sxx = -P + Txx\n",
    "Syy = -P + Tyy\n",
    "Sxy =      Txy\n",
    "\n",
    "τ    = sqrt(0.25*(Sxx-Syy)**2 + Sxy**2)\n",
    "f    = τ + 0.5*(Sxx+Syy)*sin(ϕ) \n",
    "display(f)"
   ]
  },
  {
   "cell_type": "code",
   "execution_count": 149,
   "metadata": {},
   "outputs": [
    {
     "data": {
      "text/latex": [
       "$\\displaystyle \\frac{0.25 τxx - 0.25 τyy}{\\sqrt{τxy^{2} + 0.25 \\left(τxx - τyy\\right)^{2}}} + 0.5 \\sin{\\left(ϕ \\right)}$"
      ],
      "text/plain": [
       "(0.25*τxx - 0.25*τyy)/sqrt(τxy**2 + 0.25*(τxx - τyy)**2) + 0.5*sin(ϕ)"
      ]
     },
     "execution_count": 149,
     "metadata": {},
     "output_type": "execute_result"
    }
   ],
   "source": [
    "f.diff(Txx)\n",
    "# f.diff(Tyy)\n",
    "# f.diff(Txy)\n",
    "# f.diff(P)"
   ]
  },
  {
   "cell_type": "code",
   "execution_count": 150,
   "metadata": {},
   "outputs": [
    {
     "data": {
      "text/latex": [
       "$\\displaystyle \\frac{2 G Δt \\left(ε̇xx - ε̇xxp\\right)}{3} - \\frac{2 G Δt \\left(1.5 ε̇xx + 1.5 ε̇yy\\right)}{3} + G Δt \\left(ε̇xxp + ε̇yyp\\right) - \\frac{4 G Δt \\left(ε̇yy - ε̇yyp\\right)}{3} + \\frac{2 G Δt \\left(0.5 ε̇xx + 0.5 ε̇yy - ε̇zzp\\right)}{3} + P_{0} + σyyi - τyy_{0}$"
      ],
      "text/plain": [
       "2*G*Δt*(ε̇xx - ε̇xxp)/3 - 2*G*Δt*(1.5*ε̇xx + 1.5*ε̇yy)/3 + G*Δt*(ε̇xxp + ε̇yyp) - 4*G*Δt*(ε̇yy - ε̇yyp)/3 + 2*G*Δt*(0.5*ε̇xx + 0.5*ε̇yy - ε̇zzp)/3 + P0 + σyyi - τyy0"
      ]
     },
     "metadata": {},
     "output_type": "display_data"
    },
    {
     "data": {
      "text/latex": [
       "$\\displaystyle \\frac{0.166666666666667 \\left(G Δt \\left(ε̇xxp + 7.0 ε̇yyp - 2.0 ε̇zzp\\right) + 3.0 P_{0} + 3.0 σyyi - 3.0 τyy_{0}\\right)}{G Δt}$"
      ],
      "text/plain": [
       "0.166666666666667*(G*Δt*(ε̇xxp + 7.0*ε̇yyp - 2.0*ε̇zzp) + 3.0*P0 + 3.0*σyyi - 3.0*τyy0)/(G*Δt)"
      ]
     },
     "metadata": {},
     "output_type": "display_data"
    },
    {
     "data": {
      "text/plain": [
       "'0.166666666666667 * (G .* Δt .* (ε̇xxp + 7.0 * ε̇yyp - 2.0 * ε̇zzp) + 3.0 * P0 + 3.0 * σyyi - 3.0 * τyy0) ./ (G .* Δt)'"
      ]
     },
     "execution_count": 150,
     "metadata": {},
     "output_type": "execute_result"
    }
   ],
   "source": [
    "Exx, Eyy, G, dt = symbols('ε̇xx, ε̇yy, G, Δt')\n",
    "SyyBC       = symbols('σyyi')\n",
    "Txx0, Tyy0, P0 = symbols('τxx0, τyy0, P0 ')\n",
    "Eyyp, Exxp, Ezzp, divp = symbols('ε̇yyp, ε̇xxp, ε̇zzp, ∇vp ')\n",
    "Ezz = 1/2*(Exx + Eyy)\n",
    "div = Exx + Eyy + Ezz\n",
    "\n",
    "Tyy = Tyy0 + Rational(4,3)*G*dt*( Eyy - Eyyp) - Rational(2,3)*G*dt*( Exx - Exxp) - Rational(2,3)*G*dt*( Ezz - Ezzp) \n",
    "# Tyy = Tyy0 + G*dt*( Eyy - Eyyp) - G*dt*( Exx - Exxp) \n",
    "\n",
    "P   = P0   - Rational(2,3)*G*dt*(div - 0*divp) + G*dt*(Exxp+Eyyp) - Rational(2,3)*G*dt*(Exx+Eyy-2/3*div)\n",
    "\n",
    "\n",
    "f   = SyyBC - (Tyy - P)\n",
    "display(f)\n",
    "display(solve(f, Eyy)[0])\n",
    "julia_code(solve(f, Eyy)[0]) \n"
   ]
  },
  {
   "cell_type": "code",
   "execution_count": 151,
   "metadata": {},
   "outputs": [
    {
     "ename": "NameError",
     "evalue": "name 'Ratio' is not defined",
     "output_type": "error",
     "traceback": [
      "\u001b[0;31m---------------------------------------------------------------------------\u001b[0m",
      "\u001b[0;31mNameError\u001b[0m                                 Traceback (most recent call last)",
      "Cell \u001b[0;32mIn[151], line 4\u001b[0m\n\u001b[1;32m      2\u001b[0m Exx, Eyy \u001b[38;5;241m=\u001b[39m symbols(\u001b[38;5;124m'\u001b[39m\u001b[38;5;124mExx, Eyy\u001b[39m\u001b[38;5;124m'\u001b[39m)\n\u001b[1;32m      3\u001b[0m div \u001b[38;5;241m=\u001b[39m Exx \u001b[38;5;241m+\u001b[39m Eyy\n\u001b[0;32m----> 4\u001b[0m Exxd \u001b[38;5;241m=\u001b[39m Exx \u001b[38;5;241m-\u001b[39m \u001b[43mRatio\u001b[49m\n",
      "\u001b[0;31mNameError\u001b[0m: name 'Ratio' is not defined"
     ]
    }
   ],
   "source": [
    "# Deviatoric plane strain\n",
    "Exx, Eyy = symbols('Exx, Eyy')\n",
    "div = Exx + Eyy\n",
    "Exxd = Exx - Ratio\n",
    "\n"
   ]
  },
  {
   "cell_type": "code",
   "execution_count": null,
   "metadata": {},
   "outputs": [
    {
     "data": {
      "text/latex": [
       "$\\displaystyle - \\frac{Sxx}{2} - \\frac{Syy}{2}$"
      ],
      "text/plain": [
       "-Sxx/2 - Syy/2"
      ]
     },
     "metadata": {},
     "output_type": "display_data"
    }
   ],
   "source": [
    "# Szz  = (Sxx+Syy)/2\n",
    "Sxx, Syy = symbols('Sxx, Syy')\n",
    "Szz = (Sxx+Syy)/2\n",
    "P = - (Sxx + Syy + Szz)/3\n",
    "display(P)"
   ]
  },
  {
   "cell_type": "code",
   "execution_count": null,
   "metadata": {},
   "outputs": [
    {
     "data": {
      "text/latex": [
       "$\\displaystyle - \\frac{Sxx}{2} - \\frac{Syy}{2}$"
      ],
      "text/plain": [
       "-Sxx/2 - Syy/2"
      ]
     },
     "metadata": {},
     "output_type": "display_data"
    }
   ],
   "source": [
    "Sxx, Syy, P = symbols('Sxx, Syy, P')\n",
    "Szz = -P\n",
    "f   = P + (Sxx + Syy + Szz)/3\n",
    "display(solve(f, P)[0])"
   ]
  },
  {
   "cell_type": "code",
   "execution_count": null,
   "metadata": {},
   "outputs": [
    {
     "data": {
      "text/latex": [
       "$\\displaystyle \\frac{Exx}{2} + \\frac{Eyy}{2}$"
      ],
      "text/plain": [
       "Exx/2 + Eyy/2"
      ]
     },
     "metadata": {},
     "output_type": "display_data"
    }
   ],
   "source": [
    "Ezz, Exx, Eyy = symbols('Ezz, Exx, Eyy')\n",
    "f = Ezz - (Exx + Eyy + Ezz)/3\n",
    "display(solve(f, Ezz)[0])"
   ]
  },
  {
   "cell_type": "code",
   "execution_count": 152,
   "metadata": {},
   "outputs": [
    {
     "data": {
      "text/latex": [
       "$\\displaystyle \\frac{4 G \\left(Exxd - Exxp + \\frac{div}{3}\\right)}{3} - \\frac{2 G \\left(Eyyd - Eyyp + \\frac{div}{3}\\right)}{3} - \\frac{2 G \\left(Ezzd - Ezzp + \\frac{div}{3}\\right)}{3}$"
      ],
      "text/plain": [
       "4*G*(Exxd - Exxp + div/3)/3 - 2*G*(Eyyd - Eyyp + div/3)/3 - 2*G*(Ezzd - Ezzp + div/3)/3"
      ]
     },
     "metadata": {},
     "output_type": "display_data"
    },
    {
     "data": {
      "text/latex": [
       "$\\displaystyle \\frac{4 G}{3}$"
      ],
      "text/plain": [
       "4*G/3"
      ]
     },
     "metadata": {},
     "output_type": "display_data"
    },
    {
     "data": {
      "text/latex": [
       "$\\displaystyle - \\frac{2 G}{3}$"
      ],
      "text/plain": [
       "-2*G/3"
      ]
     },
     "metadata": {},
     "output_type": "display_data"
    },
    {
     "data": {
      "text/latex": [
       "$\\displaystyle - \\frac{2 G}{3}$"
      ],
      "text/plain": [
       "-2*G/3"
      ]
     },
     "metadata": {},
     "output_type": "display_data"
    },
    {
     "data": {
      "text/latex": [
       "$\\displaystyle 0$"
      ],
      "text/plain": [
       "0"
      ]
     },
     "metadata": {},
     "output_type": "display_data"
    },
    {
     "data": {
      "text/latex": [
       "$\\displaystyle - \\frac{2 G \\left(Exxd - Exxp + \\frac{div}{3}\\right)}{3} - \\frac{2 G \\left(Eyyd - Eyyp + \\frac{div}{3}\\right)}{3} + \\frac{4 G \\left(Ezzd - Ezzp + \\frac{div}{3}\\right)}{3}$"
      ],
      "text/plain": [
       "-2*G*(Exxd - Exxp + div/3)/3 - 2*G*(Eyyd - Eyyp + div/3)/3 + 4*G*(Ezzd - Ezzp + div/3)/3"
      ]
     },
     "metadata": {},
     "output_type": "display_data"
    },
    {
     "data": {
      "text/latex": [
       "$\\displaystyle - \\frac{2 G}{3}$"
      ],
      "text/plain": [
       "-2*G/3"
      ]
     },
     "metadata": {},
     "output_type": "display_data"
    },
    {
     "data": {
      "text/latex": [
       "$\\displaystyle - \\frac{2 G}{3}$"
      ],
      "text/plain": [
       "-2*G/3"
      ]
     },
     "metadata": {},
     "output_type": "display_data"
    },
    {
     "data": {
      "text/latex": [
       "$\\displaystyle \\frac{4 G}{3}$"
      ],
      "text/plain": [
       "4*G/3"
      ]
     },
     "metadata": {},
     "output_type": "display_data"
    },
    {
     "data": {
      "text/latex": [
       "$\\displaystyle 0$"
      ],
      "text/plain": [
       "0"
      ]
     },
     "metadata": {},
     "output_type": "display_data"
    },
    {
     "data": {
      "text/latex": [
       "$\\displaystyle - \\frac{2 G \\left(Exxd - Exxp + \\frac{div}{3}\\right)}{3} - \\frac{2 G \\left(Eyyd - Eyyp + \\frac{div}{3}\\right)}{3} - \\frac{2 G \\left(Ezzd - Ezzp + \\frac{div}{3}\\right)}{3}$"
      ],
      "text/plain": [
       "-2*G*(Exxd - Exxp + div/3)/3 - 2*G*(Eyyd - Eyyp + div/3)/3 - 2*G*(Ezzd - Ezzp + div/3)/3"
      ]
     },
     "metadata": {},
     "output_type": "display_data"
    },
    {
     "data": {
      "text/latex": [
       "$\\displaystyle - \\frac{2 G}{3}$"
      ],
      "text/plain": [
       "-2*G/3"
      ]
     },
     "metadata": {},
     "output_type": "display_data"
    },
    {
     "data": {
      "text/latex": [
       "$\\displaystyle - \\frac{2 G}{3}$"
      ],
      "text/plain": [
       "-2*G/3"
      ]
     },
     "metadata": {},
     "output_type": "display_data"
    },
    {
     "data": {
      "text/latex": [
       "$\\displaystyle - \\frac{2 G}{3}$"
      ],
      "text/plain": [
       "-2*G/3"
      ]
     },
     "metadata": {},
     "output_type": "display_data"
    },
    {
     "data": {
      "text/latex": [
       "$\\displaystyle - \\frac{2 G}{3}$"
      ],
      "text/plain": [
       "-2*G/3"
      ]
     },
     "metadata": {},
     "output_type": "display_data"
    },
    {
     "data": {
      "text/latex": [
       "$\\displaystyle \\frac{2 G}{3}$"
      ],
      "text/plain": [
       "2*G/3"
      ]
     },
     "metadata": {},
     "output_type": "display_data"
    },
    {
     "data": {
      "text/latex": [
       "$\\displaystyle \\frac{2 G}{3}$"
      ],
      "text/plain": [
       "2*G/3"
      ]
     },
     "metadata": {},
     "output_type": "display_data"
    }
   ],
   "source": [
    "Ezz, Exx, Eyy = symbols('Ezz, Exx, Eyy')\n",
    "Ezzd, Exxd, Eyyd = symbols('Ezzd, Exxd, Eyyd')\n",
    "Exxp, Eyyp, Ezzp = symbols('Exxp, Eyyp, Ezzp')\n",
    "div = symbols('div')\n",
    "Ezz = Rational(1,2)*(Exx+Eyy)\n",
    "# Ezzp = Rational(1,2)*(Exxp+Eyyp)\n",
    "# div = Exx + Eyy + Ezz\n",
    "Ezz =  Rational(1,2)*(Exxd+Rational(1,3)*div + Eyyd+Rational(1,3)*div) \n",
    "\n",
    "Sxx = 2*G*(Exxd + Rational(1,3)*div - Exxp)\n",
    "Syy = 2*G*(Eyyd + Rational(1,3)*div - Eyyp)\n",
    "Szz = 2*G*(Ezzd + Rational(1,3)*div - Ezzp)\n",
    "# Szz = 2*G*(Ezz - 0*Ezzp)\n",
    "\n",
    "P   = -Rational(1,3)*(Sxx+Syy+Szz)\n",
    "\n",
    "Txx = Sxx + P\n",
    "Tzz = Szz + P\n",
    "\n",
    "display(Txx)\n",
    "display(Txx.diff(Exxd))\n",
    "display(Txx.diff(Eyyd))\n",
    "display(Txx.diff(Ezzd))\n",
    "display(Txx.diff(div))\n",
    "\n",
    "display(Tzz)\n",
    "display(Tzz.diff(Exxd))\n",
    "display(Tzz.diff(Eyyd))\n",
    "display(Tzz.diff(Ezzd))\n",
    "display(Tzz.diff(div))\n",
    "\n",
    "display(P)\n",
    "display(P.diff(Exxd))\n",
    "display(P.diff(Eyyd))\n",
    "display(P.diff(Ezzd))\n",
    "display(P.diff(div))\n",
    "\n",
    "display(P.diff(Exxp))\n",
    "display(P.diff(Eyyp))"
   ]
  },
  {
   "cell_type": "code",
   "execution_count": 153,
   "metadata": {},
   "outputs": [
    {
     "data": {
      "text/latex": [
       "$\\displaystyle 2 G \\left(Exxd - Exxp + \\frac{div}{3}\\right)$"
      ],
      "text/plain": [
       "2*G*(Exxd - Exxp + div/3)"
      ]
     },
     "metadata": {},
     "output_type": "display_data"
    },
    {
     "data": {
      "text/latex": [
       "$\\displaystyle 2 G \\left(Eyyd - Eyyp + \\frac{div}{3}\\right)$"
      ],
      "text/plain": [
       "2*G*(Eyyd - Eyyp + div/3)"
      ]
     },
     "metadata": {},
     "output_type": "display_data"
    },
    {
     "data": {
      "text/latex": [
       "$\\displaystyle 2 G \\left(Ezzd - Ezzp + \\frac{div}{3}\\right)$"
      ],
      "text/plain": [
       "2*G*(Ezzd - Ezzp + div/3)"
      ]
     },
     "metadata": {},
     "output_type": "display_data"
    },
    {
     "data": {
      "text/latex": [
       "$\\displaystyle - 0.666666666666667 G \\left(Exxd - Exxp + \\frac{div}{3}\\right) - 0.666666666666667 G \\left(Eyyd - Eyyp + \\frac{div}{3}\\right) - 0.666666666666667 G \\left(Ezzd - Ezzp + \\frac{div}{3}\\right)$"
      ],
      "text/plain": [
       "-0.666666666666667*G*(Exxd - Exxp + div/3) - 0.666666666666667*G*(Eyyd - Eyyp + div/3) - 0.666666666666667*G*(Ezzd - Ezzp + div/3)"
      ]
     },
     "metadata": {},
     "output_type": "display_data"
    }
   ],
   "source": [
    "display(Sxx)\n",
    "# display(Sxx.diff(Exxd))\n",
    "# display(Sxx.diff(Eyyd))\n",
    "# display(Sxx.diff(Ezzd))\n",
    "# display(Sxx.diff(div))\n",
    "\n",
    "display(Syy)\n",
    "\n",
    "display(Szz)\n",
    "\n",
    "display(-1/3*(Sxx+Syy+Szz))\n"
   ]
  },
  {
   "cell_type": "code",
   "execution_count": null,
   "metadata": {},
   "outputs": [
    {
     "data": {
      "text/latex": [
       "$\\displaystyle G \\left(- Exx - Eyy\\right)$"
      ],
      "text/plain": [
       "G*(-Exx - Eyy)"
      ]
     },
     "execution_count": 110,
     "metadata": {},
     "output_type": "execute_result"
    }
   ],
   "source": [
    "# Formulate pressure from total stess formulation\n",
    "Sxx = 2*G*Exx\n",
    "Syy = 2*G*Eyy\n",
    "Szz = 2*G*Ezz\n",
    "P   = -Rational(1,3)*(Sxx+Syy+Szz)\n",
    "factor(P, Exx+Eyy)"
   ]
  },
  {
   "cell_type": "code",
   "execution_count": null,
   "metadata": {},
   "outputs": [],
   "source": []
  }
 ],
 "metadata": {
  "kernelspec": {
   "display_name": "Python 3",
   "language": "python",
   "name": "python3"
  },
  "language_info": {
   "codemirror_mode": {
    "name": "ipython",
    "version": 3
   },
   "file_extension": ".py",
   "mimetype": "text/x-python",
   "name": "python",
   "nbconvert_exporter": "python",
   "pygments_lexer": "ipython3",
   "version": "3.9.6"
  }
 },
 "nbformat": 4,
 "nbformat_minor": 2
}
