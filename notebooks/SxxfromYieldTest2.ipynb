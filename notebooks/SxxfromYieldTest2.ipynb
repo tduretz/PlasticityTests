{
 "cells": [
  {
   "cell_type": "code",
   "execution_count": 1,
   "metadata": {},
   "outputs": [],
   "source": [
    "from sympy import *"
   ]
  },
  {
   "cell_type": "code",
   "execution_count": 7,
   "metadata": {},
   "outputs": [
    {
     "name": "stdout",
     "output_type": "stream",
     "text": [
      "σxx = -σyy + 2.0 * σyy ./ cos(ϕ) .^ 2 + 2.0 * sqrt(σxy .^ 2 .* sin(ϕ) .^ 2 - σxy .^ 2 + σyy .^ 2 .* sin(ϕ) .^ 2) ./ cos(ϕ) .^ 2\n"
     ]
    }
   ],
   "source": [
    "ϕ, σxx, σyy, σxy = symbols('ϕ, σxx, σyy, σxy')\n",
    "τ_i    = sqrt(0.25*(σxx-σyy)**2 + σxy**2)\n",
    "f      = τ_i + 0.5*(σxx+σyy)*sin(ϕ)\n",
    "print('σxx = ' + julia_code(solve(f, σxx)[1]))\n"
   ]
  },
  {
   "cell_type": "code",
   "execution_count": null,
   "metadata": {},
   "outputs": [],
   "source": []
  }
 ],
 "metadata": {
  "kernelspec": {
   "display_name": "Python 3",
   "language": "python",
   "name": "python3"
  },
  "language_info": {
   "codemirror_mode": {
    "name": "ipython",
    "version": 3
   },
   "file_extension": ".py",
   "mimetype": "text/x-python",
   "name": "python",
   "nbconvert_exporter": "python",
   "pygments_lexer": "ipython3",
   "version": "3.9.6"
  }
 },
 "nbformat": 4,
 "nbformat_minor": 2
}
