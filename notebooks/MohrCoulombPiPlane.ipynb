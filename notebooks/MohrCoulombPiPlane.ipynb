{
 "cells": [
  {
   "cell_type": "code",
   "execution_count": 1,
   "metadata": {},
   "outputs": [],
   "source": [
    "from sympy import *"
   ]
  },
  {
   "cell_type": "markdown",
   "metadata": {},
   "source": [
    "Solve for J2 as function of lode angle to create π-plane plot\n"
   ]
  },
  {
   "cell_type": "code",
   "execution_count": 2,
   "metadata": {},
   "outputs": [
    {
     "data": {
      "text/plain": [
       "'0.750000000000002 * (-P .* sin(ϕ) + c) .^ 2 ./ (sin(ϕ) - 0.86602540378444 * cos(θl)) .^ 2'"
      ]
     },
     "execution_count": 2,
     "metadata": {},
     "output_type": "execute_result"
    }
   ],
   "source": [
    "# Expression from de Borst (1990), some how does not yield correct representation\n",
    "J2, tet, P, phi, c = symbols('J2, θl, P, ϕ, c')\n",
    "f = sqrt(J2)*cos(tet) - (2*sqrt(1/3*J2) - P)*sin(phi) - c\n",
    "julia_code(solve(f, J2)[0])"
   ]
  },
  {
   "cell_type": "code",
   "execution_count": 3,
   "metadata": {},
   "outputs": [
    {
     "data": {
      "text/plain": [
       "'9 * (P .* sin(ϕ) + c .* cos(ϕ)) .^ 2 ./ (sqrt(3) * sin(θl) .* sin(ϕ) - 3 * cos(θl)) .^ 2'"
      ]
     },
     "execution_count": 3,
     "metadata": {},
     "output_type": "execute_result"
    }
   ],
   "source": [
    "# Use equation 4 an 5 from Abbo and Sloan (1995)\n",
    "k = cos(tet) - 1/sqrt(3)*sin(phi)*sin(tet)\n",
    "f = -P *sin(phi) + k*sqrt(J2) - c*cos(phi)\n",
    "julia_code(solve(f, J2)[0])"
   ]
  }
 ],
 "metadata": {
  "kernelspec": {
   "display_name": "Python 3",
   "language": "python",
   "name": "python3"
  },
  "language_info": {
   "codemirror_mode": {
    "name": "ipython",
    "version": 3
   },
   "file_extension": ".py",
   "mimetype": "text/x-python",
   "name": "python",
   "nbconvert_exporter": "python",
   "pygments_lexer": "ipython3",
   "version": "3.9.6"
  }
 },
 "nbformat": 4,
 "nbformat_minor": 2
}
