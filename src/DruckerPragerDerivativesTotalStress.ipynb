{
 "cells": [
  {
   "cell_type": "code",
   "execution_count": 1,
   "metadata": {},
   "outputs": [],
   "source": [
    "from sympy import *"
   ]
  },
  {
   "cell_type": "code",
   "execution_count": 26,
   "metadata": {},
   "outputs": [
    {
     "name": "stdout",
     "output_type": "stream",
     "text": [
      "dqdσxx =0.333333333333333 * sin(ϕ) + (0.333333333333333 * σxx - 0.166666666666667 * σyy - 0.166666666666667 * σzz) ./ τii\n",
      "dqdσyy =0.333333333333333 * sin(ϕ) + (-0.166666666666667 * σxx + 0.333333333333333 * σyy - 0.166666666666667 * σzz) ./ τii\n",
      "dqdσzz =0.333333333333333 * sin(ϕ) + (-0.166666666666667 * σxx - 0.166666666666667 * σyy + 0.333333333333333 * σzz) ./ τii\n",
      "dqdσxy =σxy ./ τii\n"
     ]
    },
    {
     "data": {
      "text/latex": [
       "$\\displaystyle \\frac{0.333333333333333 σxx - 0.166666666666667 σyy - 0.166666666666667 σzz}{\\sqrt{σxy^{2} + 0.222222222222222 \\left(- 0.5 σxx - 0.5 σyy + σzz\\right)^{2} + 0.222222222222222 \\left(- 0.5 σxx + σyy - 0.5 σzz\\right)^{2} + 0.222222222222222 \\left(σxx - 0.5 σyy - 0.5 σzz\\right)^{2}}} + 0.333333333333333 \\sin{\\left(ϕ \\right)}$"
      ],
      "text/plain": [
       "(0.333333333333333*σxx - 0.166666666666667*σyy - 0.166666666666667*σzz)/sqrt(σxy**2 + 0.222222222222222*(-0.5*σxx - 0.5*σyy + σzz)**2 + 0.222222222222222*(-0.5*σxx + σyy - 0.5*σzz)**2 + 0.222222222222222*(σxx - 0.5*σyy - 0.5*σzz)**2) + 0.333333333333333*sin(ϕ)"
      ]
     },
     "execution_count": 26,
     "metadata": {},
     "output_type": "execute_result"
    }
   ],
   "source": [
    "σxx, σyy, σzz, σxy, ψ = symbols('σxx, σyy, σzz, σxy, ψ')\n",
    "c   = 0\n",
    "Pt  = -1/3*(σxx + σyy + σzz)\n",
    "τii = sqrt(σxy**2 + 0.5*((Pt+σxx)**2 + (Pt+σyy)**2 + (Pt+σzz)**2))\n",
    "q   = τii - c*cos(ϕ) - Pt*sin(ϕ)\n",
    "print('dqdσxx =' + julia_code(q.diff(σxx).subs(τii,'τii')))\n",
    "print('dqdσyy =' + julia_code(q.diff(σyy).subs(τii,'τii')))\n",
    "print('dqdσzz =' + julia_code(q.diff(σzz).subs(τii,'τii')))\n",
    "print('dqdσxy =' + julia_code(q.diff(σxy).subs(τii,'τii')))\n",
    "\n",
    "q.diff(σxx)"
   ]
  },
  {
   "cell_type": "code",
   "execution_count": null,
   "metadata": {},
   "outputs": [],
   "source": []
  }
 ],
 "metadata": {
  "kernelspec": {
   "display_name": "Python 3",
   "language": "python",
   "name": "python3"
  },
  "language_info": {
   "codemirror_mode": {
    "name": "ipython",
    "version": 3
   },
   "file_extension": ".py",
   "mimetype": "text/x-python",
   "name": "python",
   "nbconvert_exporter": "python",
   "pygments_lexer": "ipython3",
   "version": "3.9.6"
  }
 },
 "nbformat": 4,
 "nbformat_minor": 2
}
